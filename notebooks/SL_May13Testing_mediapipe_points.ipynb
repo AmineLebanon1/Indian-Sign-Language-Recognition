{
  "nbformat": 4,
  "nbformat_minor": 0,
  "metadata": {
    "colab": {
      "name": "SL_May13Testing_mediapipe_points.ipynb",
      "provenance": [],
      "collapsed_sections": [],
      "machine_shape": "hm"
    },
    "kernelspec": {
      "name": "python3",
      "display_name": "Python 3"
    },
    "language_info": {
      "name": "python"
    },
    "accelerator": "GPU"
  },
  "cells": [
    {
      "cell_type": "code",
      "metadata": {
        "id": "yNEiMOirjftV"
      },
      "source": [
        "import shutil\n",
        "shutil.rmtree(\"/content/sample_data\")"
      ],
      "execution_count": null,
      "outputs": []
    },
    {
      "cell_type": "code",
      "metadata": {
        "id": "uFbowK6IjuXm"
      },
      "source": [
        "! pip install mediapipe\n",
        "! pip install sk-video\n",
        "import numpy as np \n",
        "import pandas as pd \n",
        "import os\n",
        "import skvideo.io\n",
        "import cv2 \n",
        "import mediapipe as mp\n",
        "import time\n",
        "import matplotlib.pyplot as plt"
      ],
      "execution_count": null,
      "outputs": []
    },
    {
      "cell_type": "code",
      "metadata": {
        "id": "Rmct_HQJjvk7"
      },
      "source": [
        "! wget https://zenodo.org/record/4010759/files/Greetings_2of2.zip"
      ],
      "execution_count": null,
      "outputs": []
    },
    {
      "cell_type": "code",
      "metadata": {
        "id": "C06BD9LYj1OE"
      },
      "source": [
        "! unzip Greetings_2of2.zip"
      ],
      "execution_count": null,
      "outputs": []
    },
    {
      "cell_type": "code",
      "metadata": {
        "id": "x8669cVwkhAj"
      },
      "source": [
        "os.makedirs(\"/content/Input\")"
      ],
      "execution_count": null,
      "outputs": []
    },
    {
      "cell_type": "code",
      "metadata": {
        "id": "kL8w3EPekpLE"
      },
      "source": [
        "wordtype=[\"Greetings\"]\n",
        "\n",
        "for i in wordtype:\n",
        "   for dirpath,dirfile,filename in os.walk(os.path.join(\"/content\",i)):\n",
        "     print(dirfile)"
      ],
      "execution_count": null,
      "outputs": []
    },
    {
      "cell_type": "code",
      "metadata": {
        "id": "iLiN0IxKkskN"
      },
      "source": [
        "d=['/content/Greetings']\n",
        "target_dir = '/content/Input'\n",
        "\n",
        "for i in d:\n",
        "    file_names = os.listdir(i)\n",
        "    for file_name in file_names:\n",
        "        shutil.move(os.path.join(i, file_name), target_dir)"
      ],
      "execution_count": null,
      "outputs": []
    },
    {
      "cell_type": "code",
      "metadata": {
        "id": "mucJNiXqk9v4"
      },
      "source": [
        "os.makedirs(\"/content/Output\")\n",
        "#no need face pipe"
      ],
      "execution_count": null,
      "outputs": []
    },
    {
      "cell_type": "code",
      "metadata": {
        "id": "LhP6ocnRlHHl"
      },
      "source": [
        "mp_drawing=mp.solutions.drawing_utils\n",
        "mp_holistic=mp.solutions.holistic\n",
        "##Holistic\n",
        "def holistic_estimation(image,results):\n",
        "        \n",
        "        # 1. Draw face landmarks\n",
        "  #      mp_drawing.draw_landmarks(image, results.face_landmarks, mp_holistic.FACE_CONNECTIONS, \n",
        "  #                               mp_drawing.DrawingSpec(color=(80,110,10), thickness=1, circle_radius=2),\n",
        "  #                               mp_drawing.DrawingSpec(color=(80,256,121), thickness=1, circle_radius=2)\n",
        "  #                               )rgb(204, 0, 0)\n",
        "        \n",
        "        # 2. Right hand\n",
        "        mp_drawing.draw_landmarks(image, results.right_hand_landmarks, mp_holistic.HAND_CONNECTIONS,\n",
        "                                 mp_drawing.DrawingSpec(color=(102,255,51),thickness=3, circle_radius=4),\n",
        "                                 mp_drawing.DrawingSpec(color=(255,255,255), thickness=2, circle_radius=2)\n",
        "                               )\n",
        "\n",
        "        # 3. Left Hand\n",
        "        mp_drawing.draw_landmarks(image, results.left_hand_landmarks, mp_holistic.HAND_CONNECTIONS, \n",
        "                                 mp_drawing.DrawingSpec( color=(102,255,51),thickness=3, circle_radius=4),\n",
        "                                 mp_drawing.DrawingSpec( color=(255,255,255),thickness=2, circle_radius=2) \n",
        "                                )\n",
        "\n",
        "        # 4. Pose Detections\n",
        "        mp_drawing.draw_landmarks(image, results.pose_landmarks, mp_holistic.POSE_CONNECTIONS,\n",
        "                                 mp_drawing.DrawingSpec( color=(255, 255, 0),thickness=2, circle_radius=4),\n",
        "                                 mp_drawing.DrawingSpec( color=(255,255,255),thickness=2, circle_radius=2)\n",
        "                                 )\n",
        "                        \n",
        "        return image"
      ],
      "execution_count": null,
      "outputs": []
    },
    {
      "cell_type": "code",
      "metadata": {
        "id": "XjWyqobvlKQR"
      },
      "source": [
        "def video_array_maker(pather,height=224,width=224):\n",
        "  videodata = skvideo.io.vread(pather)  \n",
        " # print(videodata[0].shape)\n",
        "  outpath=os.path.join(\"./Output\",pather.split(\"/\")[3],os.path.split(pather)[1])\n",
        "  out = cv2.VideoWriter(outpath,cv2.VideoWriter_fourcc('M','J','P','G'), 10, (width,height))\n",
        "  start=time.time()\n",
        "\n",
        "  with mp_holistic.Holistic(min_detection_confidence=0.5, min_tracking_confidence=0.5) as holistic:\n",
        "#    arr=[]\n",
        "    #actualframe=len(videodata)\n",
        "    #frames=len(videodata)\n",
        "    #print(\"Actual frame {}\".format(actualframe))\n",
        "    if actualframe >=45:\n",
        "          for i in range (actualframe):\n",
        "            x=round (actualframe/(45)  * i)\n",
        "            if x >=actualframe:\n",
        "                    break\n",
        "            else:\n",
        "                frame =videodata[x]\n",
        "                #frame =cv2.resize(frame,(720,1080),interpolation=cv2.INTER_AREA)    # --> Use this If U have resize and send to the model  (0.2 Seconds Difference)\n",
        "                results = holistic.process(frame)  \n",
        "\n",
        "                output = holistic_estimation(frame,results)\n",
        "                output =cv2.resize(output,(width,height),interpolation=cv2.INTER_AREA)\n",
        "                output =cv2.cvtColor(output,cv2.COLOR_BGR2RGB)\n",
        "#                arr.append(output)\n",
        "                out.write(output)               \n",
        "    else:\n",
        "          for i in range(actualframe):\n",
        "              frame=videodata[i]\n",
        "              frame=cv2.resize(frame,(width,height),interpolation=cv2.INTER_AREA)\n",
        "              results = holistic.process(frame)  \n",
        "              output = holistic_estimation(frame,results)\n",
        "              output =cv2.cvtColor(output,cv2.COLOR_BGR2RGB)\n",
        "              out.write(output)\n",
        "          for i in range(45-actualframe):\n",
        "              \n",
        "              newframe=np.zeros(shape=(height,width,3))\n",
        "              \n",
        "\n",
        "              out.write(np.uint8(newframe))\n",
        "    end=time.time()\n",
        "    print(end-start)\n",
        "    out.release()\n",
        "    #print(\"File Created : {}\".format(outpath))\n",
        "    #os.remove(pather)"
      ],
      "execution_count": null,
      "outputs": []
    },
    {
      "cell_type": "code",
      "metadata": {
        "id": "pee6RYbxlt46"
      },
      "source": [
        "for dirpathed,dirnamed,file in os.walk(\"/content/Input\"):\n",
        "    for class_  in dirnamed:\n",
        "      os.makedirs(os.path.join(\"/content/Output\",class_))"
      ],
      "execution_count": null,
      "outputs": []
    },
    {
      "cell_type": "code",
      "metadata": {
        "colab": {
          "base_uri": "https://localhost:8080/"
        },
        "id": "51E53ZoE2BSt",
        "outputId": "e75bfc91-1202-4b68-db86-5cd93449d858"
      },
      "source": [
        "video_array_maker(\"/content/Input/56. Pleased/MVI_0011.MOV\")"
      ],
      "execution_count": null,
      "outputs": [
        {
          "output_type": "stream",
          "text": [
            "Actual frame 53\n",
            "3.8190877437591553\n"
          ],
          "name": "stdout"
        }
      ]
    },
    {
      "cell_type": "code",
      "metadata": {
        "id": "MZVWgoF8lPyJ"
      },
      "source": [
        "z=0\n",
        "for dirpathed,dirnamed,file in os.walk(\"/content/Input\"):\n",
        " for class_  in dirnamed:\n",
        "   for dirpath,dirname,files in os.walk(os.path.join(dirpathed,class_)):\n",
        "     for i in files:\n",
        "          pather=os.path.join(dirpath,i)\n",
        "          z+=1\n",
        "          print(\"..{} th Video..\".format(z))\n",
        "          video_array_maker(pather)\n",
        "   print(\".............{} over..........\".format(class_))\n",
        "   break"
      ],
      "execution_count": null,
      "outputs": []
    }
  ]
}