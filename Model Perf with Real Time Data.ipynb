{
 "cells": [
  {
   "cell_type": "code",
   "execution_count": 1,
   "id": "97bf03c8",
   "metadata": {},
   "outputs": [],
   "source": [
    "import pandas as pd\n",
    "import numpy as np\n",
    "import cv2 \n",
    "import mediapipe as mp\n",
    "import time\n",
    "import datetime\n",
    "import matplotlib.pyplot as plt\n",
    "import skvideo.io\n",
    "import os\n",
    "import tensorflow as tf"
   ]
  },
  {
   "cell_type": "code",
   "execution_count": 2,
   "id": "39d09967",
   "metadata": {},
   "outputs": [],
   "source": [
    "model=tf.keras.models.load_model(r\"C:\\Users\\soory\\Documents\\GitHub\\Project_Moorthi\\checkpoint\")"
   ]
  },
  {
   "cell_type": "code",
   "execution_count": 49,
   "id": "ddd68c89",
   "metadata": {},
   "outputs": [
    {
     "name": "stdout",
     "output_type": "stream",
     "text": [
      "Model: \"sequential_1\"\n",
      "_________________________________________________________________\n",
      "Layer (type)                 Output Shape              Param #   \n",
      "=================================================================\n",
      "time_distributed_2 (TimeDist (None, 45, 7, 7, 1024)    3228864   \n",
      "_________________________________________________________________\n",
      "time_distributed_3 (TimeDist (None, 45, 50176)         0         \n",
      "_________________________________________________________________\n",
      "lstm_1 (LSTM)                (None, 128)               25756160  \n",
      "_________________________________________________________________\n",
      "dense_2 (Dense)              (None, 64)                8256      \n",
      "_________________________________________________________________\n",
      "dense_3 (Dense)              (None, 16)                1040      \n",
      "=================================================================\n",
      "Total params: 28,994,320\n",
      "Trainable params: 28,972,432\n",
      "Non-trainable params: 21,888\n",
      "_________________________________________________________________\n"
     ]
    }
   ],
   "source": [
    "model.summary()"
   ]
  },
  {
   "cell_type": "code",
   "execution_count": 4,
   "id": "6c92d3fa",
   "metadata": {},
   "outputs": [],
   "source": [
    "mp_drawing=mp.solutions.drawing_utils\n",
    "mp_holistic=mp.solutions.holistic"
   ]
  },
  {
   "cell_type": "code",
   "execution_count": 5,
   "id": "bf362d5f",
   "metadata": {},
   "outputs": [],
   "source": [
    "def pose_estimation(image,results):\n",
    "        \n",
    "        # 1. Draw face landmarks\n",
    "        mp_drawing.draw_landmarks(image, results.face_landmarks, mp_holistic.FACE_CONNECTIONS, \n",
    "                                 mp_drawing.DrawingSpec(color=(80,110,10), thickness=1, circle_radius=1),\n",
    "                                 mp_drawing.DrawingSpec(color=(80,256,121), thickness=1, circle_radius=1)\n",
    "                                 )\n",
    "        \n",
    "        # 2. Right hand\n",
    "        mp_drawing.draw_landmarks(image, results.right_hand_landmarks, mp_holistic.HAND_CONNECTIONS, \n",
    "                                 mp_drawing.DrawingSpec(color=(80,22,10), thickness=2, circle_radius=4),\n",
    "                                 mp_drawing.DrawingSpec(color=(80,44,121), thickness=2, circle_radius=2)\n",
    "                                 )\n",
    "\n",
    "        # 3. Left Hand\n",
    "        mp_drawing.draw_landmarks(image, results.left_hand_landmarks, mp_holistic.HAND_CONNECTIONS, \n",
    "                                 mp_drawing.DrawingSpec(color=(121,22,76), thickness=2, circle_radius=4),\n",
    "                                 mp_drawing.DrawingSpec(color=(121,44,250), thickness=2, circle_radius=2)\n",
    "                                 )\n",
    "\n",
    "        # 4. Pose Detections\n",
    "        mp_drawing.draw_landmarks(image, results.pose_landmarks, mp_holistic.POSE_CONNECTIONS, \n",
    "                                 mp_drawing.DrawingSpec(color=(245,117,66), thickness=2, circle_radius=4),\n",
    "                                 mp_drawing.DrawingSpec(color=(245,66,230), thickness=2, circle_radius=2)\n",
    "                                 )\n",
    "                        \n",
    "        return image"
   ]
  },
  {
   "cell_type": "code",
   "execution_count": 14,
   "id": "02fbb5b2",
   "metadata": {},
   "outputs": [
    {
     "name": "stdout",
     "output_type": "stream",
     "text": [
      "1\n",
      "2\n",
      "3\n",
      "4\n",
      "5\n"
     ]
    }
   ],
   "source": [
    "start=time.time()\n",
    "i=0\n",
    "while(i<5):\n",
    "        cap = cv2.VideoCapture(0)\n",
    "        out=cv2.VideoWriter(\"trier.mp4\",cv2.VideoWriter_fourcc('M','J','P','G'), 10, (224,224))\n",
    "        # Initiate holistic model\n",
    "        with mp_holistic.Holistic(min_detection_confidence=0.5, min_tracking_confidence=0.5) as holistic:\n",
    "            while cap.isOpened():\n",
    "                ret, frame = cap.read()\n",
    "                if not ret:\n",
    "                   break\n",
    "                #print(i)\n",
    "                #i=i+1\n",
    "                # Recolor Feed\n",
    "\n",
    "                image = cv2.cvtColor(frame, cv2.COLOR_BGR2RGB)\n",
    "                # Make Detections\n",
    "                results = holistic.process(image)  \n",
    "                # Recolor image back to BGR for rendering\n",
    "                output = pose_estimation(image,results)\n",
    "                output=cv2.cvtColor(output, cv2.COLOR_BGR2RGB)\n",
    "                out.write(output)\n",
    "                #cv2.imshow('image2',output)\n",
    "                if time.time() -start >3:\n",
    "                    break\n",
    "                if cv2.waitKey(10) & 0xFF == ord('q'):\n",
    "\n",
    "                     break           \n",
    "          #      cv2_imshow(image)\n",
    "\n",
    "        cap.release()\n",
    "        cv2.destroyAllWindows()\n",
    "        \n",
    "        \n",
    "        i+=1   \n",
    "        print(i)\n",
    "        start=time.time()"
   ]
  },
  {
   "cell_type": "code",
   "execution_count": 61,
   "id": "cb77ba25",
   "metadata": {},
   "outputs": [],
   "source": [
    "cap = cv2.VideoCapture(0)\n",
    "#out=cv2.VideoWriter(\"trier.mp4\",cv2.VideoWriter_fourcc('M','J','P','G'), 10, (224,224))\n",
    "        # Initiate holistic model\n",
    "with mp_holistic.Holistic(min_detection_confidence=0.5, min_tracking_confidence=0.5) as holistic:\n",
    "            while cap.isOpened():\n",
    "                ret, frame = cap.read()\n",
    "                if not ret:\n",
    "                   break\n",
    "                #print(i)\n",
    "                #i=i+1\n",
    "                # Recolor Feed\n",
    "\n",
    "                image = cv2.cvtColor(frame, cv2.COLOR_BGR2RGB)\n",
    "                # Make Detections\n",
    "                results = holistic.process(image)  \n",
    "                # Recolor image back to BGR for rendering\n",
    "                output = pose_estimation(image,results)\n",
    "                output=cv2.cvtColor(output, cv2.COLOR_BGR2RGB)\n",
    "                #out.write(output)\n",
    "                cv2.imshow('image2',output)\n",
    "              #  if time.time() -start >5:\n",
    "               #     break\n",
    "                if cv2.waitKey(10) & 0xFF == ord('q'):\n",
    "\n",
    "                     break           \n",
    "          #      cv2_imshow(image)\n",
    "\n",
    "cap.release()\n",
    "cv2.destroyAllWindows()"
   ]
  },
  {
   "cell_type": "code",
   "execution_count": 51,
   "id": "85109e48",
   "metadata": {},
   "outputs": [],
   "source": [
    "def video_array_maker(pather,height=224,width=224):\n",
    "  videodata = skvideo.io.vread(pather)  \n",
    "  outpath=os.path.join(\"./Output\",pather)\n",
    "  out = cv2.VideoWriter(outpath,cv2.VideoWriter_fourcc('M','J','P','G'), 20, (width,height))\n",
    "  #start=time.time()\n",
    "\n",
    "  with mp_holistic.Holistic(min_detection_confidence=0.5, min_tracking_confidence=0.5) as holistic:\n",
    "#    arr=[]\n",
    "    actualframe=len(videodata)\n",
    "    print(\"Actual frame {}\".format(actualframe))\n",
    "    if actualframe >=45:\n",
    "          for i in range (actualframe):\n",
    "            x=round (actualframe/(45)  * i)\n",
    "            if x >=actualframe:\n",
    "                    break\n",
    "            else:\n",
    "                frame =videodata[x]\n",
    "                frame =cv2.resize(frame,(width,height),interpolation=cv2.INTER_AREA)\n",
    "                results = holistic.process(frame)  \n",
    "\n",
    "                output = pose_estimation(frame,results)\n",
    "                output =cv2.cvtColor(output,cv2.COLOR_BGR2RGB)\n",
    "#                arr.append(output)\n",
    "                out.write(output)               \n",
    "    else:\n",
    "          for i in range(actualframe):\n",
    "              frame=videodata[i]\n",
    "              frame=cv2.resize(frame,(width,height),interpolation=cv2.INTER_AREA)\n",
    "              results = holistic.process(frame)  \n",
    "              output = pose_estimation(frame,results)\n",
    "              output =cv2.cvtColor(output,cv2.COLOR_BGR2RGB)\n",
    " #             arr.append(output)\n",
    "              out.write(output)\n",
    "          for i in range(45-actualframe):\n",
    "              \n",
    "              newframe=np.zeros(shape=(height,width,3))\n",
    "              \n",
    "#              arr.append(newframe)\n",
    "              out.write(np.uint8(newframe))\n",
    "    out.release()\n",
    "    print(\"File Created : {}\".format(outpath))\n",
    "    return outpath"
   ]
  },
  {
   "cell_type": "code",
   "execution_count": 17,
   "id": "aaab0fab",
   "metadata": {},
   "outputs": [],
   "source": [
    "## Approach:"
   ]
  },
  {
   "cell_type": "code",
   "execution_count": 53,
   "id": "24349332",
   "metadata": {},
   "outputs": [
    {
     "name": "stdout",
     "output_type": "stream",
     "text": [
      "Actual frame 51\n",
      "File Created : ./Output\\input.mp4\n"
     ]
    }
   ],
   "source": [
    "cap = cv2.VideoCapture(0)\n",
    "width= int(cap.get(cv2.CAP_PROP_FRAME_WIDTH))\n",
    "height= int(cap.get(cv2.CAP_PROP_FRAME_HEIGHT))\n",
    "out= cv2.VideoWriter('input.mp4', cv2.VideoWriter_fourcc(*'DIVX'),10, (width,height))\n",
    "start=time.time()\n",
    "while cap.isOpened():\n",
    "    ret, frame = cap.read()\n",
    "    if not ret:\n",
    "       break \n",
    "    out.write(frame)\n",
    "    if time.time() -start >2:\n",
    "        break     \n",
    "        \n",
    "cap.release()        \n",
    "out.release()      \n",
    "cv2.destroyAllWindows()\n",
    "\n",
    "outpath=video_array_maker(\"input.mp4\")\n",
    "\n",
    "model_input=skvideo.io.vread(outpath)\n",
    "prediction=model.predict(np.expand_dims(model_input,axis=0))"
   ]
  },
  {
   "cell_type": "code",
   "execution_count": 58,
   "id": "95955f62",
   "metadata": {},
   "outputs": [
    {
     "data": {
      "text/plain": [
       "array([1], dtype=int64)"
      ]
     },
     "execution_count": 58,
     "metadata": {},
     "output_type": "execute_result"
    }
   ],
   "source": [
    "np.argmax(prediction,axis=1)"
   ]
  },
  {
   "cell_type": "code",
   "execution_count": 59,
   "id": "82fe7693",
   "metadata": {},
   "outputs": [],
   "source": [
    "## For loop"
   ]
  },
  {
   "cell_type": "markdown",
   "id": "7f9100c7",
   "metadata": {},
   "source": [
    "## Checking out Model Performance with Real Time Data :"
   ]
  },
  {
   "cell_type": "code",
   "execution_count": 60,
   "id": "e943af93",
   "metadata": {},
   "outputs": [
    {
     "name": "stdout",
     "output_type": "stream",
     "text": [
      "Actual frame 82\n",
      "File Created : ./Output\\input.mp4\n",
      "1 video is [1]\n",
      "Actual frame 81\n",
      "File Created : ./Output\\input.mp4\n",
      "2 video is [1]\n",
      "Actual frame 82\n",
      "File Created : ./Output\\input.mp4\n",
      "3 video is [1]\n",
      "Actual frame 82\n",
      "File Created : ./Output\\input.mp4\n",
      "4 video is [1]\n",
      "Actual frame 82\n",
      "File Created : ./Output\\input.mp4\n",
      "5 video is [1]\n"
     ]
    }
   ],
   "source": [
    "start=time.time()\n",
    "i=0\n",
    "while(i<5):\n",
    "    cap = cv2.VideoCapture(0)\n",
    "    width= int(cap.get(cv2.CAP_PROP_FRAME_WIDTH))\n",
    "    height= int(cap.get(cv2.CAP_PROP_FRAME_HEIGHT))\n",
    "    out= cv2.VideoWriter('input.mp4', cv2.VideoWriter_fourcc(*'DIVX'),10, (width,height))\n",
    "    start=time.time()\n",
    "    while cap.isOpened():\n",
    "        ret, frame = cap.read()\n",
    "        if not ret:\n",
    "           break \n",
    "        out.write(frame)\n",
    "        if time.time() -start >3:\n",
    "            break     \n",
    "\n",
    "    cap.release()        \n",
    "    out.release()      \n",
    "    cv2.destroyAllWindows()\n",
    "\n",
    "    outpath=video_array_maker(\"input.mp4\")\n",
    "\n",
    "    model_input=skvideo.io.vread(outpath)\n",
    "    prediction=model.predict(np.expand_dims(model_input,axis=0))\n",
    "    arg_pred=np.argmax(prediction,axis=1)\n",
    "    i+=1\n",
    "    print(\"{} video is {}\".format(i,arg_pred))\n",
    "    start=time.time()"
   ]
  },
  {
   "cell_type": "markdown",
   "id": "8df61d8e",
   "metadata": {},
   "source": [
    "## Deployable Code"
   ]
  },
  {
   "cell_type": "code",
   "execution_count": 3,
   "id": "49dd0d7c",
   "metadata": {},
   "outputs": [],
   "source": [
    "### TO  COPY:\n",
    "\n",
    "import pandas as pd\n",
    "import numpy as np\n",
    "import cv2 \n",
    "import mediapipe as mp\n",
    "import time\n",
    "import datetime\n",
    "import matplotlib.pyplot as plt\n",
    "import skvideo.io\n",
    "import os\n",
    "import tensorflow as tf\n",
    "\n",
    "#Loading model (path will change)\n",
    "model=tf.keras.models.load_model(r\"C:\\Users\\soory\\Documents\\GitHub\\Project_Moorthi\\checkpoint\")\n",
    "\n",
    "mp_drawing=mp.solutions.drawing_utils\n",
    "mp_holistic=mp.solutions.holistic\n",
    "\n",
    "def pose_estimation(image,results):\n",
    "        \n",
    "        # 1. Draw face landmarks\n",
    "        mp_drawing.draw_landmarks(image, results.face_landmarks, mp_holistic.FACE_CONNECTIONS, \n",
    "                                 mp_drawing.DrawingSpec(color=(80,110,10), thickness=1, circle_radius=1),\n",
    "                                 mp_drawing.DrawingSpec(color=(80,256,121), thickness=1, circle_radius=1)\n",
    "                                 )\n",
    "        \n",
    "        # 2. Right hand\n",
    "        mp_drawing.draw_landmarks(image, results.right_hand_landmarks, mp_holistic.HAND_CONNECTIONS, \n",
    "                                 mp_drawing.DrawingSpec(color=(80,22,10), thickness=2, circle_radius=4),\n",
    "                                 mp_drawing.DrawingSpec(color=(80,44,121), thickness=2, circle_radius=2)\n",
    "                                 )\n",
    "\n",
    "        # 3. Left Hand\n",
    "        mp_drawing.draw_landmarks(image, results.left_hand_landmarks, mp_holistic.HAND_CONNECTIONS, \n",
    "                                 mp_drawing.DrawingSpec(color=(121,22,76), thickness=2, circle_radius=4),\n",
    "                                 mp_drawing.DrawingSpec(color=(121,44,250), thickness=2, circle_radius=2)\n",
    "                                 )\n",
    "\n",
    "        # 4. Pose Detections\n",
    "        mp_drawing.draw_landmarks(image, results.pose_landmarks, mp_holistic.POSE_CONNECTIONS, \n",
    "                                 mp_drawing.DrawingSpec(color=(245,117,66), thickness=2, circle_radius=4),\n",
    "                                 mp_drawing.DrawingSpec(color=(245,66,230), thickness=2, circle_radius=2)\n",
    "                                 )\n",
    "                        \n",
    "        return image\n",
    "    \n",
    "\n",
    "\n",
    "    \n",
    "# os.makedirs(\"Output\")\n",
    "    \n",
    "start=time.time()\n",
    "i=0\n",
    "while(i<5):\n",
    "    cap = cv2.VideoCapture(0)\n",
    "    width= int(cap.get(cv2.CAP_PROP_FRAME_WIDTH))\n",
    "    height= int(cap.get(cv2.CAP_PROP_FRAME_HEIGHT))\n",
    "    out= cv2.VideoWriter('input.mp4', cv2.VideoWriter_fourcc(*'DIVX'),10, (width,height))\n",
    "    start=time.time()\n",
    "    while cap.isOpened():\n",
    "        ret, frame = cap.read()\n",
    "        if not ret:\n",
    "           break \n",
    "        out.write(frame)\n",
    "        if time.time() -start >3:\n",
    "            break     \n",
    "\n",
    "    cap.release()        \n",
    "    out.release()      \n",
    "    cv2.destroyAllWindows()\n",
    "\n",
    "    outpath=video_array_maker(\"input.mp4\")\n",
    "\n",
    "    model_input=skvideo.io.vread(outpath)\n",
    "    prediction=model.predict(np.expand_dims(model_input,axis=0))\n",
    "    arg_pred=np.argmax(prediction,axis=1)\n",
    "    i+=1\n",
    "    print(\"{} video is {}\".format(i,arg_pred))\n",
    "    start=time.time()"
   ]
  },
  {
   "cell_type": "code",
   "execution_count": null,
   "id": "62823eee",
   "metadata": {},
   "outputs": [],
   "source": []
  }
 ],
 "metadata": {
  "kernelspec": {
   "display_name": "Python 3",
   "language": "python",
   "name": "python3"
  },
  "language_info": {
   "codemirror_mode": {
    "name": "ipython",
    "version": 3
   },
   "file_extension": ".py",
   "mimetype": "text/x-python",
   "name": "python",
   "nbconvert_exporter": "python",
   "pygments_lexer": "ipython3",
   "version": "3.6.12"
  }
 },
 "nbformat": 4,
 "nbformat_minor": 5
}
